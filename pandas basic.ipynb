{
 "cells": [
  {
   "cell_type": "code",
   "execution_count": null,
   "id": "facde507-0098-497f-ae0e-10127f2b8b33",
   "metadata": {},
   "outputs": [],
   "source": [
    "Q1. Create a Pandas Series that contains the following data: 4, 8, 15, 16, 23, and 42. Then, print the series."
   ]
  },
  {
   "cell_type": "code",
   "execution_count": 1,
   "id": "15b03c2f-7e79-48a9-b2fe-b6b2825944ac",
   "metadata": {},
   "outputs": [
    {
     "name": "stdout",
     "output_type": "stream",
     "text": [
      "0     4\n",
      "1     8\n",
      "2    15\n",
      "3    16\n",
      "4    23\n",
      "5    42\n",
      "dtype: int64\n"
     ]
    }
   ],
   "source": [
    "import pandas as pd\n",
    "data = pd.Series([4, 8, 15, 16, 23, 42])\n",
    "print(data)"
   ]
  },
  {
   "cell_type": "code",
   "execution_count": null,
   "id": "7b176ce5-2a55-4709-a5a6-bd0efe98004c",
   "metadata": {},
   "outputs": [],
   "source": [
    "Q2. Create a variable of list type containing 10 elements in it, and apply pandas.Series function on the\n",
    "variable print it."
   ]
  },
  {
   "cell_type": "code",
   "execution_count": 2,
   "id": "cd5a27f1-332a-49ac-bb4c-c10e0430c0af",
   "metadata": {},
   "outputs": [
    {
     "name": "stdout",
     "output_type": "stream",
     "text": [
      "0     1\n",
      "1     2\n",
      "2     3\n",
      "3     4\n",
      "4     5\n",
      "5     6\n",
      "6     7\n",
      "7     8\n",
      "8     9\n",
      "9    10\n",
      "dtype: int64\n"
     ]
    }
   ],
   "source": [
    "import pandas as pd\n",
    "\n",
    "my_list = [1, 2, 3, 4, 5, 6, 7, 8, 9, 10]\n",
    "my_series = pd.Series(my_list)\n",
    "\n",
    "print(my_series)"
   ]
  },
  {
   "cell_type": "code",
   "execution_count": null,
   "id": "aaa7a390-a8e5-49c1-b47a-802e56a1c2ac",
   "metadata": {},
   "outputs": [],
   "source": [
    "Q3. Create a Pandas DataFrame that contains the following data:"
   ]
  },
  {
   "cell_type": "code",
   "execution_count": 3,
   "id": "ad16fa31-7460-440f-acf7-232d6832de9a",
   "metadata": {},
   "outputs": [
    {
     "name": "stdout",
     "output_type": "stream",
     "text": [
      "     Name  Age  Gender\n",
      "0   Alice   25  Female\n",
      "1     Bob   30    Male\n",
      "2  Claire   27  Female\n"
     ]
    }
   ],
   "source": [
    "import pandas as pd\n",
    "\n",
    "data = {'Name': ['Alice', 'Bob', 'Claire'], 'Age': [25, 30, 27], 'Gender': ['Female', 'Male', 'Female']}\n",
    "df = pd.DataFrame(data)\n",
    "\n",
    "print(df)\n"
   ]
  },
  {
   "cell_type": "code",
   "execution_count": null,
   "id": "4bc2ad6f-17dc-4c5b-b289-a131fad63fdd",
   "metadata": {},
   "outputs": [],
   "source": [
    "Q4. What is ‘DataFrame’ in pandas and how is it different from pandas.series? Explain with an example."
   ]
  },
  {
   "cell_type": "code",
   "execution_count": null,
   "id": "535454b0-1d99-473e-a62f-ee4166fb50b9",
   "metadata": {},
   "outputs": [],
   "source": [
    "DataFrame and Series are two important data structures in the pandas library in Python for dealing with tabular data.\n",
    "\n",
    "A Series is a one-dimensional array-like object that can hold any data type such as integers, floats, strings, or even Python objects such as lists and dictionaries. It has both a sequence of values and a sequence of indexes, called labels. Series are mainly used to represent a single column of data or a single variable. \n",
    "\n",
    "On the other hand, a DataFrame is a two-dimensional labeled data structure with rows and columns. It is similar to a spreadsheet or SQL table, where each column can have a different data type. It is a collection of Pandas Series. DataFrames may have columns of different datatypes or multiple columns to represent various variables. DataFrames are mainly used to represent multiple columns of data from different sources.\n",
    "\n",
    "Let's understand this difference with an example:\n",
    "\n",
    "```python\n",
    "import pandas as pd\n",
    "\n",
    "# Creating a Series\n",
    "s = pd.Series([1, 2, 3, 4, 5])\n",
    "print(s)\n",
    "\n",
    "# Creating a DataFrame\n",
    "data = {'Name': ['Alice', 'Bob', 'Claire'], 'Age': [25, 30, 27], 'Gender': ['Female', 'Male', 'Female']}\n",
    "df = pd.DataFrame(data)\n",
    "print(df)\n",
    "```\n",
    "\n",
    "Output:\n",
    "\n",
    "```\n",
    "0    1\n",
    "1    2\n",
    "2    3\n",
    "3    4\n",
    "4    5\n",
    "dtype: int64\n",
    "\n",
    "     Name  Age  Gender\n",
    "0   Alice   25  Female\n",
    "1     Bob   30    Male\n",
    "2  Claire   27  Female\n",
    "```\n",
    "\n",
    "In this example, we first created a Pandas Series `s` containing five integer values. We then printed this series. As we see, the output shows a sequence of values along with an axis label called 'index'.\n",
    "\n",
    "Next, we created a Pandas DataFrame `df` containing three columns: Name, Age, and Gender, where each column has a different data type. We then printed this dataframe. As we see, the output shows a two-dimensional labeled data structure with rows and columns.\n",
    "\n",
    "In summary, while a Series is a one-dimensional labeled array capable of holding any data type whereas a DataFrame is a 2-dimensional labeled data structure with columns of potentially different types. DataFrames are specifically designed to store and manage tabular data in a more flexible manner than arrays or matrices."
   ]
  },
  {
   "cell_type": "code",
   "execution_count": null,
   "id": "f6471ea8-7c81-4f43-ac25-e4e858c9b3ed",
   "metadata": {},
   "outputs": [],
   "source": [
    "Q5. What are some common functions you can use to manipulate data in a Pandas DataFrame? Can\n",
    "you give an example of when you might use one of these functions?"
   ]
  },
  {
   "cell_type": "code",
   "execution_count": 4,
   "id": "186763e1-68ae-48fc-aa05-bdb07c0f82e3",
   "metadata": {},
   "outputs": [
    {
     "ename": "SyntaxError",
     "evalue": "invalid syntax (725427233.py, line 1)",
     "output_type": "error",
     "traceback": [
      "\u001b[0;36m  Cell \u001b[0;32mIn[4], line 1\u001b[0;36m\u001b[0m\n\u001b[0;31m    Pandas DataFrame provides many built-in functions that can be used to manipulate and transform the data as needed. Here are some common functions you can use to manipulate data in a Pandas DataFrame:\u001b[0m\n\u001b[0m           ^\u001b[0m\n\u001b[0;31mSyntaxError\u001b[0m\u001b[0;31m:\u001b[0m invalid syntax\n"
     ]
    }
   ],
   "source": [
    "Pandas DataFrame provides many built-in functions that can be used to manipulate and transform the data as needed. Here are some common functions you can use to manipulate data in a Pandas DataFrame:\n",
    "\n",
    "1. `head()` and `tail()` - These functions are used to preview the first and last rows of the DataFrame respectively.\n",
    "\n",
    "```python\n",
    "import pandas as pd\n",
    "\n",
    "df = pd.read_csv('data.csv')\n",
    "\n",
    "# Preview the first 5 rows of the DataFrame\n",
    "print(df.head())\n",
    "\n",
    "# Preview the last 5 rows of the DataFrame\n",
    "print(df.tail())\n",
    "```\n",
    "\n",
    "2. `describe()` - This function is used to get a summary of the statistical measures of the DataFrame such as mean, standard deviation, minimum/maximum values, etc.\n",
    "\n",
    "```python\n",
    "import pandas as pd\n",
    "\n",
    "df = pd.read_csv('data.csv')\n",
    "\n",
    "# Get summary statistics of the DataFrame\n",
    "print(df.describe())\n",
    "```\n",
    "\n",
    "3. `groupby()` - This function is used to group the data by one or more columns and then perform some computations on each group.\n",
    "\n",
    "```python\n",
    "import pandas as pd\n",
    "\n",
    "df = pd.read_csv('data.csv')\n",
    "\n",
    "# Group the data by Car Make and Car Model and compute the average price of each group\n",
    "grouped_data = df.groupby(['Car Make', 'Car Model'])['Price'].mean()\n",
    "print(grouped_data)\n",
    "```\n",
    "\n",
    "4. `sort_values()` - This function is used to sort the data by one or more columns in either ascending or descending order.\n",
    "\n",
    "```python\n",
    "import pandas as pd\n",
    "\n",
    "df = pd.read_csv('data.csv')\n",
    "\n",
    "# Sort the data by Price column in decreasing order\n",
    "sorted_df = df.sort_values('Price', ascending=False)\n",
    "print(sorted_df)\n",
    "```\n",
    "\n",
    "5. `drop()` - This function is used to drop one or more columns or rows from the DataFrame.\n",
    "\n",
    "```python\n",
    "import pandas as pd\n",
    "\n",
    "df = pd.read_csv('data.csv')\n",
    "\n",
    "# Drop the 'Color' and 'Mileage' columns from the DataFrame\n",
    "new_df = df.drop(['Color', 'Mileage'], axis=1)\n",
    "print(new_df)\n",
    "```\n",
    "\n",
    "These are just a few common functions Pandas offers. These functions, along with others, allow you to manipulate, transform, and analyze data in a DataFrame to suit your specific needs."
   ]
  },
  {
   "cell_type": "code",
   "execution_count": null,
   "id": "0b0cc3e5-3503-4bff-ad4a-fe8b724590ea",
   "metadata": {},
   "outputs": [],
   "source": [
    "Q6. Which of the following is mutable in nature Series, DataFrame, Panel?"
   ]
  },
  {
   "cell_type": "code",
   "execution_count": null,
   "id": "6aaf6f6c-c86d-4f22-9014-d0665384f416",
   "metadata": {},
   "outputs": [],
   "source": [
    "In Pandas, both Series and DataFrame are mutable in nature, while Panel is not. \n",
    "\n",
    "Mutable means that the object can be modified after it has been created. In Python, mutable objects can be changed by adding, removing, or updating the elements inside them without creating a new object. \n",
    "\n",
    "Both Series and DataFrame are constructed with mutable Python objects, such as NumPy arrays and Python dictionaries, which means that they can be changed by adding or deleting data, or by modifying existing data. \n",
    "\n",
    "On the other hand, Panel is a three-dimensional data structure in Pandas that is similar to a DataFrame but with an added extra dimension called 'items'. Unlike Series and DataFrame, Panel is not mutable since it is not commonly used for direct data manipulation. Instead, Panel is mainly used for multi-dimensional data analysis and is designed to be a robust container for heterogeneous data."
   ]
  },
  {
   "cell_type": "code",
   "execution_count": null,
   "id": "d582967e-ec31-4f78-9e8e-5e415ad63cc3",
   "metadata": {},
   "outputs": [],
   "source": [
    "Q7. Create a DataFrame using multiple Series. Explain with an example."
   ]
  },
  {
   "cell_type": "code",
   "execution_count": null,
   "id": "6b015d6f-2d57-4e77-b997-8594bec1df7c",
   "metadata": {},
   "outputs": [],
   "source": [
    "In Pandas, a DataFrame is a two-dimensional tabular data structure that consists of rows and columns that can be used to hold different types of data. You can create a DataFrame using multiple Series, where each Series corresponds to a column in the DataFrame.\n",
    "\n",
    "Here's an example of how to create a simple DataFrame using two Series:\n",
    "\n",
    "```python\n",
    "import pandas as pd\n",
    "\n",
    "# Define two Series with sample data\n",
    "names = pd.Series(['John', 'Sarah', 'David', 'Mary'])\n",
    "ages = pd.Series([32, 25, 18, 27])\n",
    "\n",
    "# Create a DataFrame by combining the two Series\n",
    "df = pd.DataFrame({'Name': names, 'Age': ages})\n",
    "\n",
    "# Print the resulting DataFrame\n",
    "print(df)\n",
    "```\n",
    "\n",
    "Output:\n",
    "\n",
    "```\n",
    "    Name  Age\n",
    "0   John   32\n",
    "1  Sarah   25\n",
    "2  David   18\n",
    "3   Mary   27\n",
    "```\n",
    "\n",
    "Here, we first create two Series 'names' and 'ages', which contain sample data for the names and ages of four people. We then create a DataFrame by combining these two Series using a dictionary. In this dictionary, the keys correspond to the column names and the values are the corresponding Series.\n",
    "\n",
    "Finally, we print the resulting DataFrame and see that it has two columns, 'Name' and 'Age', and contains the corresponding data from the two Series."
   ]
  }
 ],
 "metadata": {
  "kernelspec": {
   "display_name": "Python 3 (ipykernel)",
   "language": "python",
   "name": "python3"
  },
  "language_info": {
   "codemirror_mode": {
    "name": "ipython",
    "version": 3
   },
   "file_extension": ".py",
   "mimetype": "text/x-python",
   "name": "python",
   "nbconvert_exporter": "python",
   "pygments_lexer": "ipython3",
   "version": "3.10.8"
  }
 },
 "nbformat": 4,
 "nbformat_minor": 5
}
